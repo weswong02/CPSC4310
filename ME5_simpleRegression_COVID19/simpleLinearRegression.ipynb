{
 "cells": [
  {
   "cell_type": "markdown",
   "metadata": {},
   "source": [
    "### ME5: Simple Linear Regression on COVID-19 Datasets\n",
    "\n",
    "\n",
    "#### Learning the data using visualization and simple linear regression\n",
    "\n",
    "1. First, run the examples and understand the ML process and be familir with Python package functions for simple linear regression. \n",
    "\n",
    "2. Apply exploratory data analysis and simple regression on COVID-19 dataset(s). "
   ]
  },
  {
   "cell_type": "markdown",
   "metadata": {},
   "source": [
    "#### Write your name and your collaborators if any.\n",
    "\n",
    "- Wesley Wong\n",
    "\n",
    "- Kevin Khong"
   ]
  },
  {
   "cell_type": "markdown",
   "metadata": {},
   "source": [
    "### Part 0: Recap of regression model evaluation\n",
    "\n",
    "#### Regression modeling\n",
    "\n",
    "Cross validation:\n",
    "- https://scikit-learn.org/stable/modules/cross_validation.html\n",
    "\n",
    "Model evaluation:\n",
    "- https://scikit-learn.org/stable/modules/model_evaluation.html\n",
    "\n",
    "Linear regression:\n",
    "- https://scikit-learn.org/stable/modules/generated/sklearn.linear_model.LinearRegression.html\n",
    "\n",
    "Logistic regression (In general, logistic regressions are used for classification):\n",
    "- https://scikit-learn.org/stable/modules/generated/sklearn.linear_model.LogisticRegression.html\n",
    "\n",
    "#### Model evaluation metrics for regression models\n",
    "\n",
    "First, Let's review model evaluation metrics for regression models. \n",
    "\n",
    "Evaluation metrics for classification problems, such as **accuracy**, are not useful for regression problems. Instead, we need evaluation metrics designed for comparing continuous values.\n",
    "\n",
    "Let's create some example numeric predictions, and calculate **three common evaluation metrics** for regression problems:\n",
    "\n",
    "\n",
    "**Mean Absolute Error** (MAE) is the mean of the absolute value of the errors:\n",
    "\n",
    "$$\\frac 1n\\sum_{i=1}^n|y_i-\\hat{y}_i|$$\n",
    "\n",
    "**Mean Squared Error** (MSE) is the mean of the squared errors:\n",
    "\n",
    "$$\\frac 1n\\sum_{i=1}^n(y_i-\\hat{y}_i)^2$$\n",
    "\n",
    "**Root Mean Squared Error** (RMSE) is the square root of the mean of the squared errors:\n",
    "\n",
    "$$\\sqrt{\\frac 1n\\sum_{i=1}^n(y_i-\\hat{y}_i)^2}$$\n",
    "\n",
    "Comparing these metrics:\n",
    "\n",
    "- **MAE** is the easiest to understand, because it's the average error.\n",
    "- **MSE** is more popular than MAE, because MSE \"punishes\" larger errors.\n",
    "- **RMSE** is even more popular than MSE, because RMSE is interpretable in the \"y\" units.\n",
    "\n",
    "#### The R2 (\"r-squared\") Regression Score\n",
    "\n",
    "- Measures how well a prediction model for regression fits the given data.\n",
    "\n",
    "- The score is between 0 and 1:\n",
    "\n",
    "     - A value of 0 corresponds to a constant model that predicts the mean value of all training target values.\n",
    "\n",
    "     - A value of 1 corresponds to perfect prediction\n",
    "\n",
    "- Also known as \"coefficient of determination\""
   ]
  },
  {
   "cell_type": "markdown",
   "metadata": {},
   "source": [
    "## Part 0 - Simple Linear Regression Examples\n",
    "\n",
    "Two linear regression models:\n",
    "\n",
    "(1) A real dataset: each data tuple has one attribute in X and its corresponding y value. \n",
    "\n",
    "(2) A synthetic dataset: each data tuple has two attributes in X and its corresponding y value. "
   ]
  },
  {
   "cell_type": "markdown",
   "metadata": {},
   "source": [
    "###  (1) Simple Linear Regression Example - one attribute in X\n",
    "\n",
    "Simple linear regression is an approach for predicting a **quantitative response** using a **single feature** (or \"predictor\" or \"input variable\"). It takes the following form:\n",
    "\n",
    "$y = \\theta_0x_0 + \\theta_1x_1$\n",
    "\n",
    "- $y$ is the response\n",
    "- $x_0 = 1$\n",
    "- $x_1$ is the attribute\n",
    "- $\\theta_0$ is the coeffficient for $x_0$ (intercept)\n",
    "- $\\theta_1$ is the coefficient for $x_1$\n",
    "\n",
    "The $\\theta$ values are called the **model coefficients**. These values are \"learned\" during the model fitting step using the \"least squares\" criterion. Then, the fitted model can be used to make predictions!"
   ]
  },
  {
   "cell_type": "markdown",
   "metadata": {},
   "source": [
    "Follow the code and observe the results"
   ]
  },
  {
   "cell_type": "code",
   "execution_count": 1,
   "metadata": {},
   "outputs": [],
   "source": [
    "# Python ≥3.5 is required\n",
    "import sys\n",
    "assert sys.version_info >= (3, 5)"
   ]
  },
  {
   "cell_type": "code",
   "execution_count": 2,
   "metadata": {},
   "outputs": [],
   "source": [
    "# Scikit-Learn ≥0.20 is required\n",
    "import sklearn\n",
    "assert sklearn.__version__ >= \"0.20\""
   ]
  },
  {
   "cell_type": "markdown",
   "metadata": {},
   "source": [
    "### Data Preparation\n",
    "\n",
    "The code expects the data files to be located in the current directory. Fetch the files in datasets/lifesat."
   ]
  },
  {
   "cell_type": "markdown",
   "metadata": {},
   "source": [
    "This function just merges the OECD's life satisfaction data and the IMF's GDP per capita data. It's a bit too long and boring and it's not specific to Machine Learning, which is why I left it out of the book."
   ]
  },
  {
   "cell_type": "code",
   "execution_count": 3,
   "metadata": {},
   "outputs": [],
   "source": [
    "def prepare_country_stats(oecd_bli, gdp_per_capita):\n",
    "    oecd_bli = oecd_bli[oecd_bli[\"INEQUALITY\"]==\"TOT\"]\n",
    "    oecd_bli = oecd_bli.pivot(index=\"Country\", columns=\"Indicator\", values=\"Value\")\n",
    "    gdp_per_capita.rename(columns={\"2015\": \"GDP per capita\"}, inplace=True)\n",
    "    gdp_per_capita.set_index(\"Country\", inplace=True)\n",
    "    \n",
    "    full_country_stats = pd.merge(left=oecd_bli, right=gdp_per_capita,\n",
    "                                  left_index=True, right_index=True)\n",
    "    \n",
    "    full_country_stats.sort_values(by=\"GDP per capita\", inplace=True)\n",
    "    remove_indices = [0, 1, 6, 8, 33, 34, 35]\n",
    "    keep_indices = list(set(range(36)) - set(remove_indices))\n",
    "    \n",
    "    return full_country_stats[['GDP per capita', 'Life satisfaction']].iloc[keep_indices]"
   ]
  },
  {
   "cell_type": "code",
   "execution_count": 4,
   "metadata": {},
   "outputs": [],
   "source": [
    "import os\n",
    "datapath = os.path.join(\"datasets\", \"lifesat\", \"\")"
   ]
  },
  {
   "cell_type": "code",
   "execution_count": 5,
   "metadata": {},
   "outputs": [
    {
     "name": "stdout",
     "output_type": "stream",
     "text": [
      "Downloading oecd_bli_2015.csv\n",
      "Downloading gdp_per_capita.csv\n"
     ]
    }
   ],
   "source": [
    "# Download the data\n",
    "import urllib\n",
    "DOWNLOAD_ROOT = \"https://raw.githubusercontent.com/ageron/handson-ml2/master/\"\n",
    "os.makedirs(datapath, exist_ok=True)\n",
    "\n",
    "for filename in (\"oecd_bli_2015.csv\", \"gdp_per_capita.csv\"):\n",
    "    print(\"Downloading\", filename)\n",
    "    url = DOWNLOAD_ROOT + \"datasets/lifesat/\" + filename\n",
    "    urllib.request.urlretrieve(url, datapath + filename)"
   ]
  },
  {
   "cell_type": "markdown",
   "metadata": {},
   "source": [
    "#### Load the data into a DataFrame"
   ]
  },
  {
   "cell_type": "code",
   "execution_count": 6,
   "metadata": {},
   "outputs": [],
   "source": [
    "# Code example of load the data and prepared the data\n",
    "import matplotlib.pyplot as plt\n",
    "import numpy as np\n",
    "import pandas as pd\n",
    "import sklearn.linear_model\n",
    "\n",
    "# Load the data\n",
    "oecd_bli = pd.read_csv(datapath + \"oecd_bli_2015.csv\", thousands=',')\n",
    "gdp_per_capita = pd.read_csv(datapath + \"gdp_per_capita.csv\",thousands=',',delimiter='\\t',\n",
    "                             encoding='latin1', na_values=\"n/a\")"
   ]
  },
  {
   "cell_type": "markdown",
   "metadata": {},
   "source": [
    "#### Select the data and visualize it"
   ]
  },
  {
   "cell_type": "code",
   "execution_count": 7,
   "metadata": {},
   "outputs": [],
   "source": [
    "# To plot pretty figures directly within Jupyter\n",
    "%matplotlib inline\n",
    "import matplotlib as mpl\n",
    "\n",
    "mpl.rc('axes', labelsize=14)\n",
    "mpl.rc('xtick', labelsize=12)\n",
    "mpl.rc('ytick', labelsize=12)"
   ]
  },
  {
   "cell_type": "code",
   "execution_count": 8,
   "metadata": {},
   "outputs": [
    {
     "data": {
      "image/png": "[encoded data removed]",
      "text/plain": [
       "<Figure size 432x288 with 1 Axes>"
      ]
     },
     "metadata": {
      "needs_background": "light"
     },
     "output_type": "display_data"
    }
   ],
   "source": [
    "# Prepare the data\n",
    "country_stats = prepare_country_stats(oecd_bli, gdp_per_capita)\n",
    "\n",
    "X = np.c_[country_stats['GDP per capita']]\n",
    "y = np.c_[country_stats['Life satisfaction']]\n",
    "\n",
    "# Visualize the data\n",
    "country_stats.plot(kind='scatter', x=\"GDP per capita\", y='Life satisfaction')\n",
    "plt.show()"
   ]
  },
  {
   "cell_type": "code",
   "execution_count": 9,
   "metadata": {},
   "outputs": [
    {
     "data": {
      "text/plain": [
       "(29, 1)"
      ]
     },
     "execution_count": 9,
     "metadata": {},
     "output_type": "execute_result"
    }
   ],
   "source": [
    "X.shape"
   ]
  },
  {
   "cell_type": "code",
   "execution_count": 10,
   "metadata": {},
   "outputs": [
    {
     "data": {
      "text/plain": [
       "(29, 1)"
      ]
     },
     "execution_count": 10,
     "metadata": {},
     "output_type": "execute_result"
    }
   ],
   "source": [
    "y.shape"
   ]
  },
  {
   "cell_type": "markdown",
   "metadata": {},
   "source": [
    "### Build a simple regression model"
   ]
  },
  {
   "cell_type": "markdown",
   "metadata": {},
   "source": [
    "\n",
    "#### Create a simple linear regression \n",
    "\n",
    "https://scikit-learn.org/stable/modules/generated/sklearn.linear_model.LinearRegression.html"
   ]
  },
  {
   "cell_type": "code",
   "execution_count": 11,
   "metadata": {},
   "outputs": [
    {
     "data": {
      "text/plain": [
       "LinearRegression()"
      ]
     },
     "execution_count": 11,
     "metadata": {},
     "output_type": "execute_result"
    }
   ],
   "source": [
    "# import model\n",
    "from sklearn.linear_model import LinearRegression\n",
    "import warnings \n",
    "warnings.filterwarnings(action= 'ignore')\n",
    "\n",
    "\n",
    "# Create a simple linear regression model\n",
    "model = LinearRegression()\n",
    "\n",
    "# Train the model (we use all data for training --> Later we will divide the data into training data and testing data)\n",
    "model.fit(X, y)"
   ]
  },
  {
   "cell_type": "code",
   "execution_count": 12,
   "metadata": {},
   "outputs": [
    {
     "name": "stdout",
     "output_type": "stream",
     "text": [
      "[[4.91154459e-05]]\n",
      "[4.8530528]\n"
     ]
    }
   ],
   "source": [
    "print(model.coef_)\n",
    "print(model.intercept_)"
   ]
  },
  {
   "cell_type": "markdown",
   "metadata": {},
   "source": [
    "#### Predict y for a new X value"
   ]
  },
  {
   "cell_type": "code",
   "execution_count": 13,
   "metadata": {},
   "outputs": [
    {
     "data": {
      "text/plain": [
       "array([[5.96242338]])"
      ]
     },
     "execution_count": 13,
     "metadata": {},
     "output_type": "execute_result"
    }
   ],
   "source": [
    "# Make a prediction for Cyprus \n",
    "# new data value 22587 for Cyprus's GDP per capita\n",
    "\n",
    "X_new = [[22587]]\n",
    "\n",
    "y_predict = model.predict(X_new)\n",
    "\n",
    "y_predict"
   ]
  },
  {
   "cell_type": "markdown",
   "metadata": {},
   "source": [
    "#### Plot a scatter graph together with the regression function"
   ]
  },
  {
   "cell_type": "code",
   "execution_count": 14,
   "metadata": {},
   "outputs": [
    {
     "data": {
      "image/png": "[encoded data removed]",
      "text/plain": [
       "<Figure size 432x288 with 1 Axes>"
      ]
     },
     "metadata": {
      "needs_background": "light"
     },
     "output_type": "display_data"
    }
   ],
   "source": [
    "# Plot scatterplot \n",
    "plt.scatter(X, y, c='red', label='observed')\n",
    "plt.legend(loc='best')\n",
    "\n",
    "plt.xlabel('GDP per capita')\n",
    "plt.ylabel('Life satisfaction')\n",
    "plt.title('Regression')\n",
    "\n",
    "# plot the regression function\n",
    "plt.plot(X, model.predict(X), c='green', label='fitted', linewidth=2)\n",
    "\n",
    "plt.show()"
   ]
  },
  {
   "cell_type": "markdown",
   "metadata": {},
   "source": [
    "### Model Evaluation Example"
   ]
  },
  {
   "cell_type": "markdown",
   "metadata": {},
   "source": [
    "#### 1. Preparing X and y using pandas\n",
    "- We already did this process above\n",
    "- scikit-learn expects X (feature matrix) and y (response vector) to be NumPy arrays.\n",
    "- However, pandas is built on top of NumPy.\n",
    "- Thus, X can be a pandas DataFrame and y can be a pandas Series!\n",
    "\n",
    "See more details about Pandas Series and Numpy\n",
    "\n",
    "- https://pandas.pydata.org/pandas-docs/stable/reference/api/pandas.Series.html"
   ]
  },
  {
   "cell_type": "markdown",
   "metadata": {},
   "source": [
    "#### 2. Splitting X and y into training and testing sets\n",
    "\n",
    "We are using the same data that is stored X, y above. "
   ]
  },
  {
   "cell_type": "code",
   "execution_count": 15,
   "metadata": {},
   "outputs": [],
   "source": [
    "from sklearn.model_selection import train_test_split\n",
    "\n",
    "# split the data into training and testing (test data size 30%)\n",
    "\n",
    "X_train, X_test, y_train, y_test = train_test_split(X, y,\n",
    "                                        test_size=0.3, random_state=1)\n"
   ]
  },
  {
   "cell_type": "markdown",
   "metadata": {},
   "source": [
    "#### 3. Linear regression in scikit-learn"
   ]
  },
  {
   "cell_type": "code",
   "execution_count": 16,
   "metadata": {},
   "outputs": [
    {
     "data": {
      "text/plain": [
       "LinearRegression()"
      ]
     },
     "execution_count": 16,
     "metadata": {},
     "output_type": "execute_result"
    }
   ],
   "source": [
    "# import model\n",
    "from sklearn.linear_model import LinearRegression\n",
    "\n",
    "# instantiate a simple linear regression model \n",
    "linreg = LinearRegression()\n",
    "\n",
    "\n",
    "# fit the model to the training data (learn the coefficients)\n",
    "linreg.fit(X_train, y_train)"
   ]
  },
  {
   "cell_type": "markdown",
   "metadata": {},
   "source": [
    "#### 4. Making predictions for testing data\n",
    "\n",
    "Use X_test"
   ]
  },
  {
   "cell_type": "code",
   "execution_count": 17,
   "metadata": {},
   "outputs": [
    {
     "data": {
      "text/plain": [
       "array([[6.59031623],\n",
       "       [6.90629497],\n",
       "       [6.82350342],\n",
       "       [6.90057464],\n",
       "       [7.24870458],\n",
       "       [6.88774681],\n",
       "       [5.42891846],\n",
       "       [6.12434396],\n",
       "       [7.19687366]])"
      ]
     },
     "execution_count": 17,
     "metadata": {},
     "output_type": "execute_result"
    }
   ],
   "source": [
    "# make predictions on the testing set\n",
    "y_pred = linreg.predict(X_test)\n",
    "y_pred"
   ]
  },
  {
   "cell_type": "code",
   "execution_count": 18,
   "metadata": {},
   "outputs": [
    {
     "name": "stdout",
     "output_type": "stream",
     "text": [
      "0.7119005755709598\n"
     ]
    }
   ],
   "source": [
    "print(linreg.score(X_train, y_train))"
   ]
  },
  {
   "cell_type": "code",
   "execution_count": 19,
   "metadata": {},
   "outputs": [
    {
     "name": "stdout",
     "output_type": "stream",
     "text": [
      "0.5844350680603305\n"
     ]
    }
   ],
   "source": [
    "print(linreg.score(X_test, y_test))"
   ]
  },
  {
   "cell_type": "markdown",
   "metadata": {},
   "source": [
    "#### 5. Computing the RMSE \n",
    "\n",
    "https://scikit-learn.org/stable/modules/model_evaluation.html"
   ]
  },
  {
   "cell_type": "code",
   "execution_count": 20,
   "metadata": {},
   "outputs": [
    {
     "data": {
      "text/plain": [
       "0.39596209321120784"
      ]
     },
     "execution_count": 20,
     "metadata": {},
     "output_type": "execute_result"
    }
   ],
   "source": [
    "from sklearn import metrics\n",
    "\n",
    "rmse = np.sqrt(metrics.mean_squared_error(y_test, y_pred))\n",
    "rmse"
   ]
  },
  {
   "cell_type": "markdown",
   "metadata": {},
   "source": [
    "#### 6. K Cross Validation and Learning Curve"
   ]
  },
  {
   "cell_type": "code",
   "execution_count": 21,
   "metadata": {},
   "outputs": [
    {
     "name": "stdout",
     "output_type": "stream",
     "text": [
      "KFold(n_splits=3, random_state=None, shuffle=True)\n"
     ]
    }
   ],
   "source": [
    "from sklearn.model_selection import KFold # import k-fold validation\n",
    "\n",
    "kf = KFold(n_splits=3, random_state=None, shuffle=True) # Define the split - into 3 folds \n",
    "\n",
    "kf.get_n_splits(X) # returns the number of splitting iterations in the cross-validator\n",
    "\n",
    "print(kf) "
   ]
  },
  {
   "cell_type": "markdown",
   "metadata": {},
   "source": [
    "##### Setting up a testbed using KFold "
   ]
  },
  {
   "cell_type": "code",
   "execution_count": 22,
   "metadata": {},
   "outputs": [
    {
     "name": "stdout",
     "output_type": "stream",
     "text": [
      "[0.3943116967033585, 0.47296552639042794, 0.5433702861194359]\n",
      "[0.7680762020329931, 0.7152540871260507, 0.1142461964874475]\n"
     ]
    }
   ],
   "source": [
    "# Let's create a new simple linear regressor\n",
    "linreg = LinearRegression()\n",
    "\n",
    "# Conduct 3-fold cross validation\n",
    "\n",
    "rmse = []\n",
    "r2 = []\n",
    "for train_index, test_index in kf.split(X):\n",
    "\n",
    "    X_train, X_test = X[train_index], X[test_index]\n",
    "    y_train, y_test = y[train_index], y[test_index]\n",
    "    \n",
    "    linreg.fit(X_train, y_train)\n",
    "    y_pred = linreg.predict(X_test)\n",
    "    \n",
    "    rmse.append(np.sqrt(metrics.mean_squared_error(y_test, y_pred)))\n",
    "    r2.append(metrics.r2_score(y_test, y_pred))\n",
    "\n",
    "\n",
    "print(rmse)\n",
    "print(r2)"
   ]
  },
  {
   "cell_type": "markdown",
   "metadata": {},
   "source": [
    "#### Learning Curve\n",
    "\n",
    "Check the details for learning curve\n",
    "\n",
    "https://scikit-learn.org/stable/modules/generated/sklearn.model_selection.learning_curve.html"
   ]
  },
  {
   "cell_type": "code",
   "execution_count": 23,
   "metadata": {},
   "outputs": [
    {
     "name": "stdout",
     "output_type": "stream",
     "text": [
      "[[0.40433763 0.71465092 0.31337881]\n",
      " [0.44521366 0.68017958 0.63000012]\n",
      " [0.62160952 0.64510339 0.60440014]\n",
      " [0.64193732 0.64030917 0.63128845]\n",
      " [0.61870968 0.64337437 0.72023421]]\n",
      "[[1.0913824  0.75686007 0.95099899]\n",
      " [1.16396418 0.66299508 0.85090026]\n",
      " [0.77958163 0.69463594 0.94420969]\n",
      " [0.73698584 0.68738399 0.91401072]\n",
      " [0.73481691 0.69579544 0.64116779]]\n"
     ]
    },
    {
     "data": {
      "image/png": "[encoded data removed]",
      "text/plain": [
       "<Figure size 360x216 with 1 Axes>"
      ]
     },
     "metadata": {
      "needs_background": "light"
     },
     "output_type": "display_data"
    }
   ],
   "source": [
    "from sklearn.model_selection import learning_curve\n",
    "    \n",
    "# evaluate the training and testing and retrieve the information of model performance. \n",
    "\n",
    "train_sizes = np.linspace(0.2, 0.8, 5)\n",
    "\n",
    "\n",
    "train_sizes, train_mse, test_mse = learning_curve(linreg, X, y, \n",
    "                                    train_sizes = train_sizes, \n",
    "                                    scoring='neg_root_mean_squared_error', \n",
    "                                    cv=3, shuffle=True)\n",
    "\n",
    "train_scores = np.sqrt(np.abs(train_mse))\n",
    "test_scores = np.sqrt(np.abs(test_mse))\n",
    "\n",
    "print(train_scores)\n",
    "print(test_scores)\n",
    "\n",
    "train_scores_mean = np.mean(train_scores, axis=1)\n",
    "test_scores_mean = np.mean(test_scores, axis=1)\n",
    "\n",
    "# Plot learning curve\n",
    "fig, ax = plt.subplots(1, 1, figsize=(5, 3))\n",
    "    \n",
    "ax.set_title('A learning curve for a simple linear regression')\n",
    "ax.set_xlabel(\"Training examples\")\n",
    "ax.set_ylabel(\"Score (RMSE)\")\n",
    "ax.grid()\n",
    "\n",
    "ax.plot(train_sizes, train_scores_mean, 'o-', color=\"r\", label=\"Training score\")\n",
    "ax.plot(train_sizes, test_scores_mean, 'o-', color=\"g\", label=\"Cross-validation score\")\n",
    "ax.legend(loc=\"best\")\n",
    "\n",
    "plt.show()"
   ]
  },
  {
   "cell_type": "markdown",
   "metadata": {},
   "source": [
    "### (2) Multivariate Linear Regression on a Synthetic Dataset\n",
    "\n",
    "Simple linear regression can easily be extended to include multiple features. This is called **multiple linear regression**:\n",
    "### Form of linear regression\n",
    "\n",
    "$y = \\theta_0x_0 + \\theta_1x_1 + \\theta_2x_2 + ... + \\theta_nx_n$\n",
    "\n",
    "- $y$ is the response\n",
    "- $x_0 = 1$\n",
    "- $x_1, x_2, ..., x_n$ are attributes\n",
    "- $\\theta_0$ is the coeffficient for $x_0$ (intercept)\n",
    "- $\\theta_1$ is the coefficient for $x_1$ (the first attribute)\n",
    "- $\\theta_n$ is the coefficient for $x_n$ (the nth attribute)\n",
    "\n",
    "The $\\theta$ values are called the **model coefficients**. These values are \"learned\" during the model fitting step using the \"least squares\" criterion. Then, the fitted model can be used to make predictions!"
   ]
  },
  {
   "cell_type": "markdown",
   "metadata": {},
   "source": [
    "#### Generate a synthetic data\n",
    "- Each data tuple has 4 attributes in X and its corresponding y value. \n",
    "\n",
    "- For generating a random dataset of n=1000 samples for regression modeling, see the detail:\n",
    "\n",
    "https://scikit-learn.org/stable/modules/generated/sklearn.datasets.make_regression.html#sklearn.datasets.make_regression"
   ]
  },
  {
   "cell_type": "code",
   "execution_count": 24,
   "metadata": {},
   "outputs": [
    {
     "data": {
      "image/png": "[encoded data removed]",
      "text/plain": [
       "<Figure size 432x288 with 1 Axes>"
      ]
     },
     "metadata": {
      "needs_background": "light"
     },
     "output_type": "display_data"
    }
   ],
   "source": [
    "# synthetic dataset for classification (binary)\n",
    "from sklearn.datasets import make_regression, make_blobs\n",
    "\n",
    "plt.figure()\n",
    "plt.title('Sample binary classification problem with two informative features')\n",
    "\n",
    "# generate X values and y values\n",
    "# check make_regression() for other parameters\n",
    "X, y = make_regression(n_samples = 1000, n_features=5,\n",
    "                                n_informative=2,n_targets=1,\n",
    "                                noise=0.0, random_state=0)\n",
    "\n",
    "# Warning!!! scatter() function can handle only 2 dimensions\n",
    "# Hence you pick two attributes only and plot the data\n",
    "plt.scatter(X[:, 0], X[:, 3])\n",
    "plt.show()"
   ]
  },
  {
   "cell_type": "markdown",
   "metadata": {},
   "source": [
    "#### Split the data into training and test data"
   ]
  },
  {
   "cell_type": "code",
   "execution_count": 25,
   "metadata": {},
   "outputs": [],
   "source": [
    "from sklearn.model_selection import train_test_split\n",
    "\n",
    "# split the data into training and testing (test data size 30%)\n",
    "\n",
    "X_train, X_test, y_train, y_test = train_test_split(X, y,\n",
    "                                        test_size=0.3, random_state=1)"
   ]
  },
  {
   "cell_type": "markdown",
   "metadata": {},
   "source": [
    "#### Build a linear regression model"
   ]
  },
  {
   "cell_type": "code",
   "execution_count": 26,
   "metadata": {},
   "outputs": [
    {
     "data": {
      "text/plain": [
       "LinearRegression()"
      ]
     },
     "execution_count": 26,
     "metadata": {},
     "output_type": "execute_result"
    }
   ],
   "source": [
    "# import model\n",
    "from sklearn.linear_model import LinearRegression\n",
    "\n",
    "# instantiate a simple linear regression model \n",
    "linreg = LinearRegression()\n",
    "\n",
    "\n",
    "# fit the model to the training data (learn the coefficients)\n",
    "linreg.fit(X_train, y_train)"
   ]
  },
  {
   "cell_type": "markdown",
   "metadata": {},
   "source": [
    "#### Prediction"
   ]
  },
  {
   "cell_type": "code",
   "execution_count": 27,
   "metadata": {},
   "outputs": [
    {
     "data": {
      "text/plain": [
       "array([-8.14571146e+01, -1.35144652e+02, -8.36661599e+01,  1.04061111e+02,\n",
       "        8.08212553e+01,  1.12001966e+02, -9.52264283e+01, -6.71360609e+01,\n",
       "       -3.10738668e+01,  7.17730923e+01, -6.04865862e+01, -1.61411034e+02,\n",
       "       -3.48197850e+01, -2.61664993e+01, -1.10917919e+02, -3.69792740e+01,\n",
       "        5.72945882e+01,  6.08954729e+01,  1.90400352e+01, -9.20592621e+01,\n",
       "        3.26527660e+01,  5.84659596e+01, -3.37699902e+01, -1.09540887e+01,\n",
       "       -8.53749279e+01,  6.47397472e+01,  1.41425800e+02,  5.06241812e+01,\n",
       "        5.54051450e+00,  2.55206676e+01,  5.19136063e+00, -7.34221922e+01,\n",
       "        6.94669141e+01, -1.43148064e+01, -3.05407500e+01,  1.31091422e+01,\n",
       "       -1.02154641e+02, -5.41160364e+01, -5.85203338e+01, -1.85263783e+01,\n",
       "       -1.05525139e+02, -5.86956961e+01,  5.51164958e+01,  3.02243404e+01,\n",
       "        5.73808239e+01, -9.78340785e+00, -1.79893145e+00,  1.36509701e+02,\n",
       "       -6.27068524e+01, -5.19580973e+01, -1.22732433e-01,  2.24983673e+01,\n",
       "        7.24229493e+01,  5.95130354e+00, -5.12620381e+01, -1.13935896e+02,\n",
       "       -1.17500805e+02, -2.57577831e+01,  8.43324959e+01,  1.96584571e+01,\n",
       "        2.68007815e+01, -2.30336037e+01, -1.91469255e+02,  9.78500977e+01,\n",
       "       -6.17738370e+01,  3.50174620e+01,  6.04789805e+01,  7.69721122e+01,\n",
       "       -3.03057995e+01, -8.33005251e+00,  7.71960851e+00, -6.29853312e+01,\n",
       "        1.81831688e+01, -6.09873036e+01, -2.44240958e+01,  2.39433425e+00,\n",
       "       -4.61233607e+01, -3.36000009e+01,  9.92634911e+01, -1.44809466e+02,\n",
       "        1.19135591e+02,  4.76880193e+01,  3.79673670e+01, -1.39530728e+00,\n",
       "       -1.30269661e+02,  9.71846739e+01, -7.09287640e+01, -2.86513043e+01,\n",
       "       -3.70531799e+01,  9.83763898e+01,  8.83322912e+01, -4.93091970e+01,\n",
       "        4.49067655e+01, -1.94696963e+01,  1.96453800e+00, -8.29146083e+01,\n",
       "        1.01026693e+02,  6.17965646e+01,  4.49436711e+01,  3.42101710e+01,\n",
       "       -4.27785862e+01,  5.14841840e+01,  3.76650729e+01, -1.03859470e+01,\n",
       "       -2.93291625e+01, -3.04385448e+00,  4.88924644e+01, -8.72952921e+00,\n",
       "       -4.40472000e+01, -8.90193421e+00, -2.71124049e+01, -6.30374045e+01,\n",
       "       -8.06208686e+01, -1.07825542e+02, -2.27950506e+01,  1.23668890e+01,\n",
       "        2.10993277e+01,  7.74699607e+01, -8.85189299e+00, -4.24925354e+01,\n",
       "       -8.32482681e+00,  6.03427819e+00,  1.56835125e+02,  1.45931936e+01,\n",
       "        9.00011531e+01, -1.99525614e+01, -6.81889818e+01, -6.50609902e+01,\n",
       "        6.64322115e+00,  1.07752621e+02,  5.27093131e+01, -3.59543668e+01,\n",
       "        2.19556168e+01, -4.37284556e+01, -8.59827914e+00, -6.46779835e+00,\n",
       "       -3.27066358e+01,  1.42270710e+01,  2.56972235e+01,  4.75735176e+01,\n",
       "        3.65310112e+00,  1.23647132e+01, -1.29153289e-01,  1.59943903e+02,\n",
       "        6.59881681e+01, -9.45346851e+01,  5.26967379e+01, -3.82510405e+00,\n",
       "        9.87017962e+01, -3.87177185e+01,  5.12626724e+01, -3.94949118e+00,\n",
       "       -1.42269605e+02, -2.22099521e+01,  1.69339148e+01, -1.38308402e+01,\n",
       "        8.04728807e+01,  5.79739676e+01, -1.54068918e+02, -2.19738770e+00,\n",
       "        4.95627272e+01,  8.30690922e+01, -3.86489043e+01, -7.79400808e+01,\n",
       "        2.60965212e+01, -2.07200258e+01,  5.55406757e+00,  8.68530020e+01,\n",
       "       -8.84402068e+01,  3.75794377e+00,  1.04119370e+02,  8.77101799e+01,\n",
       "        5.26646828e+01, -4.76501100e+01, -2.84678309e+00,  1.06651886e+02,\n",
       "       -6.23893771e+01,  1.10854264e+01, -1.13385363e+01,  9.93413569e+01,\n",
       "       -7.43311980e+01, -4.37960178e+01,  2.86247635e+01, -8.94184464e+00,\n",
       "       -1.04410559e+02, -1.47971877e+00,  3.40970580e+01,  7.07942393e+01,\n",
       "        4.17455932e+01,  1.32411938e+01, -6.52449792e+01,  9.18774391e+01,\n",
       "        7.76634402e+00, -1.98227252e+02, -1.94925350e+01,  1.75422784e+01,\n",
       "       -1.87013434e+01, -6.83933931e-01, -1.05333499e+02,  3.68611562e+01,\n",
       "        8.96043568e+01,  2.20274794e+01,  4.74204601e+01,  4.07362048e+01,\n",
       "       -4.96737363e+01,  1.19202158e-02, -4.99334125e+01,  3.34465329e+01,\n",
       "        4.80713088e+01, -9.58201714e+01,  1.78752071e+02,  3.76754324e+01,\n",
       "        6.00609686e+01,  4.81865401e+01, -1.25284006e+02, -5.82441261e+01,\n",
       "       -8.76970641e+00,  1.10153558e+01, -6.72828599e+01, -4.31153340e+01,\n",
       "        3.92533612e+01, -8.98232679e+01,  9.19359711e+00, -1.14797370e+02,\n",
       "       -8.76547872e+01, -1.25399295e+01,  2.25105724e+01, -6.18457471e+01,\n",
       "       -1.32248577e+01, -1.18655983e+02, -7.46032161e+00, -8.51951897e-01,\n",
       "        3.60749784e+01,  7.52963758e+01,  1.22976698e+02, -5.30856389e+00,\n",
       "       -5.37834982e+01, -6.27284902e+01, -1.43310525e+02,  6.25446072e+01,\n",
       "        4.29930163e+01,  2.80697050e+01,  4.64337498e+01, -2.53571313e+01,\n",
       "       -1.58506268e+02,  5.70008945e+01,  1.47860602e+01, -4.58796167e+01,\n",
       "        5.22992946e+01, -4.84364053e+01, -5.74723225e+01, -4.92112969e+01,\n",
       "       -2.84699832e+01, -2.71389776e+01,  8.42357003e+01, -9.16897927e+00,\n",
       "       -3.86187495e+01, -1.56090093e+00, -4.60267498e+01, -1.28147471e+02,\n",
       "        1.57541363e+02, -2.86539080e+01,  6.66663743e+01, -3.31515101e+01,\n",
       "       -2.69944690e+01, -7.02715971e+01, -9.59823402e+01, -8.17819036e+00,\n",
       "        1.24286077e+01, -9.69360379e+01,  6.49522393e+01,  2.70317047e+00,\n",
       "       -9.37742270e+01, -4.55787836e+01,  3.63773707e+01, -7.01312222e+01,\n",
       "       -1.09498418e+02,  5.09249940e+01,  3.53130131e+01,  1.08071169e+00,\n",
       "        6.97269605e+01, -1.11939784e+02, -5.35220225e+00, -2.23543658e+01,\n",
       "        1.15143152e+02, -8.34372820e+01, -3.00660379e+01, -5.24664739e+01,\n",
       "       -1.01870350e+02,  7.77772023e+00, -1.38162054e+01,  8.91389622e+01,\n",
       "        8.44436940e+01,  9.04717231e+01,  1.29657978e+02, -1.43994554e+01,\n",
       "       -8.76383725e+01, -1.25519452e+02,  8.96957294e-01,  8.28974168e+01])"
      ]
     },
     "execution_count": 27,
     "metadata": {},
     "output_type": "execute_result"
    }
   ],
   "source": [
    "# make predictions on the testing set\n",
    "y_pred = linreg.predict(X_test)\n",
    "y_pred"
   ]
  },
  {
   "cell_type": "markdown",
   "metadata": {},
   "source": [
    "#### Check RMSE of the model"
   ]
  },
  {
   "cell_type": "code",
   "execution_count": 28,
   "metadata": {},
   "outputs": [
    {
     "data": {
      "text/plain": [
       "1.1270574464502696e-14"
      ]
     },
     "execution_count": 28,
     "metadata": {},
     "output_type": "execute_result"
    }
   ],
   "source": [
    "from sklearn import metrics\n",
    "\n",
    "rmse = np.sqrt(metrics.mean_squared_error(y_test, y_pred))\n",
    "rmse"
   ]
  },
  {
   "cell_type": "markdown",
   "metadata": {},
   "source": [
    "#### K-cross validation"
   ]
  },
  {
   "cell_type": "code",
   "execution_count": 29,
   "metadata": {},
   "outputs": [
    {
     "name": "stdout",
     "output_type": "stream",
     "text": [
      "KFold(n_splits=3, random_state=None, shuffle=True)\n",
      "[3.597112938587499e-14, 3.221665337365943e-14, 3.1625113244282053e-14] \n",
      " Average RMSE: 3.327096533460549e-14\n",
      "[1.0, 1.0, 1.0] \n",
      " Average R2: 1.0\n"
     ]
    }
   ],
   "source": [
    "from sklearn.model_selection import KFold # import k-fold validation\n",
    "\n",
    "kf = KFold(n_splits=3, random_state=None, shuffle=True) # Define the split - into 3 folds \n",
    "\n",
    "kf.get_n_splits(X) # returns the number of splitting iterations in the cross-validator\n",
    "\n",
    "print(kf) \n",
    "\n",
    "# Let's create a new simple linear regressor\n",
    "linreg = LinearRegression()\n",
    "\n",
    "# Conduct 3-fold cross validation\n",
    "\n",
    "rmse = []\n",
    "r2 = []\n",
    "for train_index, test_index in kf.split(X):\n",
    "\n",
    "    X_train, X_test = X[train_index], X[test_index]\n",
    "    y_train, y_test = y[train_index], y[test_index]\n",
    "    \n",
    "    linreg.fit(X_train, y_train)\n",
    "    y_pred = linreg.predict(X_test)\n",
    "    \n",
    "    rmse.append(np.sqrt(metrics.mean_squared_error(y_test, y_pred)))\n",
    "    r2.append(metrics.r2_score(y_test, y_pred))\n",
    "\n",
    "print(rmse, '\\n Average RMSE:', np.mean(rmse))\n",
    "print(r2, '\\n Average R2:', np.mean(r2))"
   ]
  },
  {
   "cell_type": "markdown",
   "metadata": {},
   "source": [
    "#### Learning curve"
   ]
  },
  {
   "cell_type": "code",
   "execution_count": 30,
   "metadata": {},
   "outputs": [
    {
     "data": {
      "image/png": "[encoded data removed]",
      "text/plain": [
       "<Figure size 360x216 with 1 Axes>"
      ]
     },
     "metadata": {
      "needs_background": "light"
     },
     "output_type": "display_data"
    }
   ],
   "source": [
    "from sklearn.model_selection import learning_curve\n",
    "    \n",
    "# evaluate the training and testing and retrieve the information of model performance. \n",
    "\n",
    "train_sizes = np.linspace(0.2, 0.8, 50)\n",
    "\n",
    "train_sizes, train_mse, test_mse = learning_curve(linreg, X, y, \n",
    "                                    train_sizes = train_sizes, \n",
    "                                    scoring='neg_root_mean_squared_error', \n",
    "                                    cv=3, shuffle=True)\n",
    "\n",
    "train_scores = np.sqrt(np.abs(train_mse))\n",
    "test_scores = np.sqrt(np.abs(test_mse))\n",
    "\n",
    "#print(train_scores)\n",
    "#print(test_scores)\n",
    "\n",
    "train_scores_mean = np.mean(train_scores, axis=1)\n",
    "test_scores_mean = np.mean(test_scores, axis=1)\n",
    "\n",
    "# Plot learning curve\n",
    "fig, ax = plt.subplots(1, 1, figsize=(5, 3))\n",
    "    \n",
    "ax.set_title('A learning curve for a simple linear regression')\n",
    "ax.set_xlabel(\"Training examples\")\n",
    "ax.set_ylabel(\"Score (RMSE)\")\n",
    "ax.grid()\n",
    "\n",
    "ax.plot(train_sizes, train_scores_mean, 'o-', color=\"r\", label=\"Training score\")\n",
    "ax.plot(train_sizes, test_scores_mean, 'o-', color=\"g\", label=\"Cross-validation score\")\n",
    "ax.legend(loc=\"best\")\n",
    "\n",
    "plt.show()"
   ]
  },
  {
   "cell_type": "markdown",
   "metadata": {},
   "source": [
    "###  Part 1: Explore insight of the data using simple regression\n",
    "\n",
    "The following Git repository is for the COVID-19 visual dashboard operated by the Johns Hopkins University Center for Systems Science and Engineering:\n",
    "https://github.com/CSSEGISandData/COVID-19\n",
    "\n",
    "Read the information on the dashboard and check the datasets details\n",
    "\n",
    "Datasets are located in a folder: csse_covid_19_data"
   ]
  },
  {
   "cell_type": "markdown",
   "metadata": {},
   "source": [
    "### Tasks\n",
    "\n",
    "1. Select day for X and # of cases for y from either US only or all data.\n",
    "\n",
    "   1.1 (optional) If you find any missing data or/and invalid data in the selected attributes you would like to work on, apply tools to handle these data. \n",
    "\n",
    "2. Conduct preliminary exploratory data analysis on the selected data and visualize the data. This may include the following but not limited:\n",
    "\n",
    "    - The five number summary, box plots, histograms, or/and scatter plots. \n",
    "\n",
    "\n",
    "3. Display simple linear regression function with a scatter plot\n",
    "    --> You will see the data does not follow a simple linear function. \n",
    "   \n",
    "4. Create a logistic regression function instead of a simple linear regression. See the web resources below:\n",
    "\n",
    "    from sklearn.linear_model import LogisticRegression\n",
    "    \n",
    "    - This time draw a scatter plot of the data together with the logistic regression function. "
   ]
  },
  {
   "cell_type": "markdown",
   "metadata": {},
   "source": [
    "#### (1) Load data\n",
    "\n",
    "- Examples in the next three cells show how to obtain data from web resources and load the data to DataFrame.\n",
    "\n",
    "- You should modify the code for the datasets and data attributes you are interested. \n",
    "\n",
    "##### Obtain data from the Web"
   ]
  },
  {
   "cell_type": "code",
   "execution_count": 31,
   "metadata": {},
   "outputs": [
    {
     "name": "stdout",
     "output_type": "stream",
     "text": [
      "Downloading time_series_covid19_confirmed_US.csv\n"
     ]
    },
    {
     "ename": "KeyboardInterrupt",
     "evalue": "",
     "output_type": "error",
     "traceback": [
      "\u001b[0;31m---------------------------------------------------------------------------\u001b[0m",
      "\u001b[0;31mKeyboardInterrupt\u001b[0m                         Traceback (most recent call last)",
      "\u001b[1;32m/Users/wesleywong/Desktop/SchoolFolders/Spring 2022/CPSC4310notgit/CPSC4310/ME5_simpleRegression_COVID19/simpleLinearRegression.ipynb Cell 65'\u001b[0m in \u001b[0;36m<cell line: 7>\u001b[0;34m()\u001b[0m\n\u001b[1;32m      <a href='vscode-notebook-cell:/Users/wesleywong/Desktop/SchoolFolders/Spring%202022/CPSC4310notgit/CPSC4310/ME5_simpleRegression_COVID19/simpleLinearRegression.ipynb#ch0000064?line=7'>8</a>\u001b[0m \u001b[39mprint\u001b[39m(\u001b[39m\"\u001b[39m\u001b[39mDownloading\u001b[39m\u001b[39m\"\u001b[39m, filename)\n\u001b[1;32m      <a href='vscode-notebook-cell:/Users/wesleywong/Desktop/SchoolFolders/Spring%202022/CPSC4310notgit/CPSC4310/ME5_simpleRegression_COVID19/simpleLinearRegression.ipynb#ch0000064?line=8'>9</a>\u001b[0m url \u001b[39m=\u001b[39m DOWNLOAD_ROOT \u001b[39m+\u001b[39m \u001b[39m\"\u001b[39m\u001b[39mcsse_covid_19_data/csse_covid_19_data/\u001b[39m\u001b[39m\"\u001b[39m \u001b[39m+\u001b[39m filename\n\u001b[0;32m---> <a href='vscode-notebook-cell:/Users/wesleywong/Desktop/SchoolFolders/Spring%202022/CPSC4310notgit/CPSC4310/ME5_simpleRegression_COVID19/simpleLinearRegression.ipynb#ch0000064?line=9'>10</a>\u001b[0m urllib\u001b[39m.\u001b[39;49mrequest\u001b[39m.\u001b[39;49murlretrieve(DOWNLOAD_ROOT, datapath \u001b[39m+\u001b[39;49m filename)\n",
      "File \u001b[0;32m/opt/homebrew/Cellar/python@3.9/3.9.12/Frameworks/Python.framework/Versions/3.9/lib/python3.9/urllib/request.py:268\u001b[0m, in \u001b[0;36murlretrieve\u001b[0;34m(url, filename, reporthook, data)\u001b[0m\n\u001b[1;32m    <a href='file:///opt/homebrew/Cellar/python%403.9/3.9.12/Frameworks/Python.framework/Versions/3.9/lib/python3.9/urllib/request.py?line=264'>265</a>\u001b[0m     reporthook(blocknum, bs, size)\n\u001b[1;32m    <a href='file:///opt/homebrew/Cellar/python%403.9/3.9.12/Frameworks/Python.framework/Versions/3.9/lib/python3.9/urllib/request.py?line=266'>267</a>\u001b[0m \u001b[39mwhile\u001b[39;00m \u001b[39mTrue\u001b[39;00m:\n\u001b[0;32m--> <a href='file:///opt/homebrew/Cellar/python%403.9/3.9.12/Frameworks/Python.framework/Versions/3.9/lib/python3.9/urllib/request.py?line=267'>268</a>\u001b[0m     block \u001b[39m=\u001b[39m fp\u001b[39m.\u001b[39;49mread(bs)\n\u001b[1;32m    <a href='file:///opt/homebrew/Cellar/python%403.9/3.9.12/Frameworks/Python.framework/Versions/3.9/lib/python3.9/urllib/request.py?line=268'>269</a>\u001b[0m     \u001b[39mif\u001b[39;00m \u001b[39mnot\u001b[39;00m block:\n\u001b[1;32m    <a href='file:///opt/homebrew/Cellar/python%403.9/3.9.12/Frameworks/Python.framework/Versions/3.9/lib/python3.9/urllib/request.py?line=269'>270</a>\u001b[0m         \u001b[39mbreak\u001b[39;00m\n",
      "File \u001b[0;32m/opt/homebrew/Cellar/python@3.9/3.9.12/Frameworks/Python.framework/Versions/3.9/lib/python3.9/http/client.py:463\u001b[0m, in \u001b[0;36mHTTPResponse.read\u001b[0;34m(self, amt)\u001b[0m\n\u001b[1;32m    <a href='file:///opt/homebrew/Cellar/python%403.9/3.9.12/Frameworks/Python.framework/Versions/3.9/lib/python3.9/http/client.py?line=459'>460</a>\u001b[0m \u001b[39mif\u001b[39;00m amt \u001b[39mis\u001b[39;00m \u001b[39mnot\u001b[39;00m \u001b[39mNone\u001b[39;00m:\n\u001b[1;32m    <a href='file:///opt/homebrew/Cellar/python%403.9/3.9.12/Frameworks/Python.framework/Versions/3.9/lib/python3.9/http/client.py?line=460'>461</a>\u001b[0m     \u001b[39m# Amount is given, implement using readinto\u001b[39;00m\n\u001b[1;32m    <a href='file:///opt/homebrew/Cellar/python%403.9/3.9.12/Frameworks/Python.framework/Versions/3.9/lib/python3.9/http/client.py?line=461'>462</a>\u001b[0m     b \u001b[39m=\u001b[39m \u001b[39mbytearray\u001b[39m(amt)\n\u001b[0;32m--> <a href='file:///opt/homebrew/Cellar/python%403.9/3.9.12/Frameworks/Python.framework/Versions/3.9/lib/python3.9/http/client.py?line=462'>463</a>\u001b[0m     n \u001b[39m=\u001b[39m \u001b[39mself\u001b[39;49m\u001b[39m.\u001b[39;49mreadinto(b)\n\u001b[1;32m    <a href='file:///opt/homebrew/Cellar/python%403.9/3.9.12/Frameworks/Python.framework/Versions/3.9/lib/python3.9/http/client.py?line=463'>464</a>\u001b[0m     \u001b[39mreturn\u001b[39;00m \u001b[39mmemoryview\u001b[39m(b)[:n]\u001b[39m.\u001b[39mtobytes()\n\u001b[1;32m    <a href='file:///opt/homebrew/Cellar/python%403.9/3.9.12/Frameworks/Python.framework/Versions/3.9/lib/python3.9/http/client.py?line=464'>465</a>\u001b[0m \u001b[39melse\u001b[39;00m:\n\u001b[1;32m    <a href='file:///opt/homebrew/Cellar/python%403.9/3.9.12/Frameworks/Python.framework/Versions/3.9/lib/python3.9/http/client.py?line=465'>466</a>\u001b[0m     \u001b[39m# Amount is not given (unbounded read) so we must check self.length\u001b[39;00m\n\u001b[1;32m    <a href='file:///opt/homebrew/Cellar/python%403.9/3.9.12/Frameworks/Python.framework/Versions/3.9/lib/python3.9/http/client.py?line=466'>467</a>\u001b[0m     \u001b[39m# and self.chunked\u001b[39;00m\n",
      "File \u001b[0;32m/opt/homebrew/Cellar/python@3.9/3.9.12/Frameworks/Python.framework/Versions/3.9/lib/python3.9/http/client.py:507\u001b[0m, in \u001b[0;36mHTTPResponse.readinto\u001b[0;34m(self, b)\u001b[0m\n\u001b[1;32m    <a href='file:///opt/homebrew/Cellar/python%403.9/3.9.12/Frameworks/Python.framework/Versions/3.9/lib/python3.9/http/client.py?line=501'>502</a>\u001b[0m         b \u001b[39m=\u001b[39m \u001b[39mmemoryview\u001b[39m(b)[\u001b[39m0\u001b[39m:\u001b[39mself\u001b[39m\u001b[39m.\u001b[39mlength]\n\u001b[1;32m    <a href='file:///opt/homebrew/Cellar/python%403.9/3.9.12/Frameworks/Python.framework/Versions/3.9/lib/python3.9/http/client.py?line=503'>504</a>\u001b[0m \u001b[39m# we do not use _safe_read() here because this may be a .will_close\u001b[39;00m\n\u001b[1;32m    <a href='file:///opt/homebrew/Cellar/python%403.9/3.9.12/Frameworks/Python.framework/Versions/3.9/lib/python3.9/http/client.py?line=504'>505</a>\u001b[0m \u001b[39m# connection, and the user is reading more bytes than will be provided\u001b[39;00m\n\u001b[1;32m    <a href='file:///opt/homebrew/Cellar/python%403.9/3.9.12/Frameworks/Python.framework/Versions/3.9/lib/python3.9/http/client.py?line=505'>506</a>\u001b[0m \u001b[39m# (for example, reading in 1k chunks)\u001b[39;00m\n\u001b[0;32m--> <a href='file:///opt/homebrew/Cellar/python%403.9/3.9.12/Frameworks/Python.framework/Versions/3.9/lib/python3.9/http/client.py?line=506'>507</a>\u001b[0m n \u001b[39m=\u001b[39m \u001b[39mself\u001b[39;49m\u001b[39m.\u001b[39;49mfp\u001b[39m.\u001b[39;49mreadinto(b)\n\u001b[1;32m    <a href='file:///opt/homebrew/Cellar/python%403.9/3.9.12/Frameworks/Python.framework/Versions/3.9/lib/python3.9/http/client.py?line=507'>508</a>\u001b[0m \u001b[39mif\u001b[39;00m \u001b[39mnot\u001b[39;00m n \u001b[39mand\u001b[39;00m b:\n\u001b[1;32m    <a href='file:///opt/homebrew/Cellar/python%403.9/3.9.12/Frameworks/Python.framework/Versions/3.9/lib/python3.9/http/client.py?line=508'>509</a>\u001b[0m     \u001b[39m# Ideally, we would raise IncompleteRead if the content-length\u001b[39;00m\n\u001b[1;32m    <a href='file:///opt/homebrew/Cellar/python%403.9/3.9.12/Frameworks/Python.framework/Versions/3.9/lib/python3.9/http/client.py?line=509'>510</a>\u001b[0m     \u001b[39m# wasn't satisfied, but it might break compatibility.\u001b[39;00m\n\u001b[1;32m    <a href='file:///opt/homebrew/Cellar/python%403.9/3.9.12/Frameworks/Python.framework/Versions/3.9/lib/python3.9/http/client.py?line=510'>511</a>\u001b[0m     \u001b[39mself\u001b[39m\u001b[39m.\u001b[39m_close_conn()\n",
      "File \u001b[0;32m/opt/homebrew/Cellar/python@3.9/3.9.12/Frameworks/Python.framework/Versions/3.9/lib/python3.9/socket.py:704\u001b[0m, in \u001b[0;36mSocketIO.readinto\u001b[0;34m(self, b)\u001b[0m\n\u001b[1;32m    <a href='file:///opt/homebrew/Cellar/python%403.9/3.9.12/Frameworks/Python.framework/Versions/3.9/lib/python3.9/socket.py?line=701'>702</a>\u001b[0m \u001b[39mwhile\u001b[39;00m \u001b[39mTrue\u001b[39;00m:\n\u001b[1;32m    <a href='file:///opt/homebrew/Cellar/python%403.9/3.9.12/Frameworks/Python.framework/Versions/3.9/lib/python3.9/socket.py?line=702'>703</a>\u001b[0m     \u001b[39mtry\u001b[39;00m:\n\u001b[0;32m--> <a href='file:///opt/homebrew/Cellar/python%403.9/3.9.12/Frameworks/Python.framework/Versions/3.9/lib/python3.9/socket.py?line=703'>704</a>\u001b[0m         \u001b[39mreturn\u001b[39;00m \u001b[39mself\u001b[39;49m\u001b[39m.\u001b[39;49m_sock\u001b[39m.\u001b[39;49mrecv_into(b)\n\u001b[1;32m    <a href='file:///opt/homebrew/Cellar/python%403.9/3.9.12/Frameworks/Python.framework/Versions/3.9/lib/python3.9/socket.py?line=704'>705</a>\u001b[0m     \u001b[39mexcept\u001b[39;00m timeout:\n\u001b[1;32m    <a href='file:///opt/homebrew/Cellar/python%403.9/3.9.12/Frameworks/Python.framework/Versions/3.9/lib/python3.9/socket.py?line=705'>706</a>\u001b[0m         \u001b[39mself\u001b[39m\u001b[39m.\u001b[39m_timeout_occurred \u001b[39m=\u001b[39m \u001b[39mTrue\u001b[39;00m\n",
      "File \u001b[0;32m/opt/homebrew/Cellar/python@3.9/3.9.12/Frameworks/Python.framework/Versions/3.9/lib/python3.9/ssl.py:1241\u001b[0m, in \u001b[0;36mSSLSocket.recv_into\u001b[0;34m(self, buffer, nbytes, flags)\u001b[0m\n\u001b[1;32m   <a href='file:///opt/homebrew/Cellar/python%403.9/3.9.12/Frameworks/Python.framework/Versions/3.9/lib/python3.9/ssl.py?line=1236'>1237</a>\u001b[0m     \u001b[39mif\u001b[39;00m flags \u001b[39m!=\u001b[39m \u001b[39m0\u001b[39m:\n\u001b[1;32m   <a href='file:///opt/homebrew/Cellar/python%403.9/3.9.12/Frameworks/Python.framework/Versions/3.9/lib/python3.9/ssl.py?line=1237'>1238</a>\u001b[0m         \u001b[39mraise\u001b[39;00m \u001b[39mValueError\u001b[39;00m(\n\u001b[1;32m   <a href='file:///opt/homebrew/Cellar/python%403.9/3.9.12/Frameworks/Python.framework/Versions/3.9/lib/python3.9/ssl.py?line=1238'>1239</a>\u001b[0m           \u001b[39m\"\u001b[39m\u001b[39mnon-zero flags not allowed in calls to recv_into() on \u001b[39m\u001b[39m%s\u001b[39;00m\u001b[39m\"\u001b[39m \u001b[39m%\u001b[39m\n\u001b[1;32m   <a href='file:///opt/homebrew/Cellar/python%403.9/3.9.12/Frameworks/Python.framework/Versions/3.9/lib/python3.9/ssl.py?line=1239'>1240</a>\u001b[0m           \u001b[39mself\u001b[39m\u001b[39m.\u001b[39m\u001b[39m__class__\u001b[39m)\n\u001b[0;32m-> <a href='file:///opt/homebrew/Cellar/python%403.9/3.9.12/Frameworks/Python.framework/Versions/3.9/lib/python3.9/ssl.py?line=1240'>1241</a>\u001b[0m     \u001b[39mreturn\u001b[39;00m \u001b[39mself\u001b[39;49m\u001b[39m.\u001b[39;49mread(nbytes, buffer)\n\u001b[1;32m   <a href='file:///opt/homebrew/Cellar/python%403.9/3.9.12/Frameworks/Python.framework/Versions/3.9/lib/python3.9/ssl.py?line=1241'>1242</a>\u001b[0m \u001b[39melse\u001b[39;00m:\n\u001b[1;32m   <a href='file:///opt/homebrew/Cellar/python%403.9/3.9.12/Frameworks/Python.framework/Versions/3.9/lib/python3.9/ssl.py?line=1242'>1243</a>\u001b[0m     \u001b[39mreturn\u001b[39;00m \u001b[39msuper\u001b[39m()\u001b[39m.\u001b[39mrecv_into(buffer, nbytes, flags)\n",
      "File \u001b[0;32m/opt/homebrew/Cellar/python@3.9/3.9.12/Frameworks/Python.framework/Versions/3.9/lib/python3.9/ssl.py:1099\u001b[0m, in \u001b[0;36mSSLSocket.read\u001b[0;34m(self, len, buffer)\u001b[0m\n\u001b[1;32m   <a href='file:///opt/homebrew/Cellar/python%403.9/3.9.12/Frameworks/Python.framework/Versions/3.9/lib/python3.9/ssl.py?line=1096'>1097</a>\u001b[0m \u001b[39mtry\u001b[39;00m:\n\u001b[1;32m   <a href='file:///opt/homebrew/Cellar/python%403.9/3.9.12/Frameworks/Python.framework/Versions/3.9/lib/python3.9/ssl.py?line=1097'>1098</a>\u001b[0m     \u001b[39mif\u001b[39;00m buffer \u001b[39mis\u001b[39;00m \u001b[39mnot\u001b[39;00m \u001b[39mNone\u001b[39;00m:\n\u001b[0;32m-> <a href='file:///opt/homebrew/Cellar/python%403.9/3.9.12/Frameworks/Python.framework/Versions/3.9/lib/python3.9/ssl.py?line=1098'>1099</a>\u001b[0m         \u001b[39mreturn\u001b[39;00m \u001b[39mself\u001b[39;49m\u001b[39m.\u001b[39;49m_sslobj\u001b[39m.\u001b[39;49mread(\u001b[39mlen\u001b[39;49m, buffer)\n\u001b[1;32m   <a href='file:///opt/homebrew/Cellar/python%403.9/3.9.12/Frameworks/Python.framework/Versions/3.9/lib/python3.9/ssl.py?line=1099'>1100</a>\u001b[0m     \u001b[39melse\u001b[39;00m:\n\u001b[1;32m   <a href='file:///opt/homebrew/Cellar/python%403.9/3.9.12/Frameworks/Python.framework/Versions/3.9/lib/python3.9/ssl.py?line=1100'>1101</a>\u001b[0m         \u001b[39mreturn\u001b[39;00m \u001b[39mself\u001b[39m\u001b[39m.\u001b[39m_sslobj\u001b[39m.\u001b[39mread(\u001b[39mlen\u001b[39m)\n",
      "\u001b[0;31mKeyboardInterrupt\u001b[0m: "
     ]
    }
   ],
   "source": [
    "import os\n",
    "datapath = os.path.join(\"csse_covid_19_data\", \"csse_covid_19_data\", \"\")\n",
    "\n",
    "import urllib\n",
    "DOWNLOAD_ROOT = \"https://raw.githubusercontent.com/CSSEGISandData/COVID-19/master/csse_covid_19_data/csse_covid_19_time_series/time_series_covid19_confirmed_US.csv\"\n",
    "os.makedirs(datapath, exist_ok=True)\n",
    "for filename in (\"time_series_covid19_confirmed_US.csv\",):\n",
    "    print(\"Downloading\", filename)\n",
    "    url = DOWNLOAD_ROOT + \"csse_covid_19_data/csse_covid_19_data/\" + filename\n",
    "    urllib.request.urlretrieve(DOWNLOAD_ROOT, datapath + filename)"
   ]
  },
  {
   "cell_type": "code",
   "execution_count": null,
   "metadata": {},
   "outputs": [],
   "source": [
    "us_confirmed_timeseries = pd.read_csv(datapath + \"time_series_covid19_confirmed_US.csv\")\n",
    "wash_cases = us_confirmed_timeseries.loc[us_confirmed_timeseries[\"Province_State\"] == \"Washington\"]\n",
    "wash_cases = wash_cases.drop(columns=['UID', 'iso2', 'iso3', 'FIPS', 'Province_State', 'Country_Region', 'Lat', 'Long_'\n",
    ", 'code3', 'Combined_Key', 'Admin2'])\n",
    "cases_by_date = wash_cases.sum()"
   ]
  },
  {
   "cell_type": "markdown",
   "metadata": {},
   "source": [
    "##### Load data to DataFrame"
   ]
  },
  {
   "cell_type": "code",
   "execution_count": null,
   "metadata": {},
   "outputs": [
    {
     "name": "stdout",
     "output_type": "stream",
     "text": [
      "(831, 1)\n",
      "(831, 1)\n"
     ]
    }
   ],
   "source": [
    "df = pd.DataFrame({'date':cases_by_date.index, 'cases':cases_by_date.values})\n",
    "df['day_number'] = df.index\n",
    "\n",
    "X = np.c_[df.day_number]\n",
    "y = np.c_[df.cases]\n",
    "\n",
    "print(X.shape)\n",
    "print(y.shape)"
   ]
  },
  {
   "cell_type": "markdown",
   "metadata": {},
   "source": [
    "#### (2) EDA"
   ]
  },
  {
   "cell_type": "code",
   "execution_count": null,
   "metadata": {},
   "outputs": [
    {
     "name": "stdout",
     "output_type": "stream",
     "text": [
      "              cases  day_number\n",
      "count  8.310000e+02  831.000000\n",
      "mean   4.438451e+05  415.000000\n",
      "std    4.462058e+05  240.033331\n",
      "min    1.000000e+00    0.000000\n",
      "25%    6.812000e+04  207.500000\n",
      "50%    3.485160e+05  415.000000\n",
      "75%    6.714945e+05  622.500000\n",
      "max    1.498116e+06  830.000000\n",
      "              cases  day_number\n",
      "cases       1.00000     0.92363\n",
      "day_number  0.92363     1.00000\n"
     ]
    },
    {
     "data": {
      "text/plain": [
       "<AxesSubplot:xlabel='day_number'>"
      ]
     },
     "execution_count": 159,
     "metadata": {},
     "output_type": "execute_result"
    },
    {
     "data": {
      "image/png": "[encoded data removed]",
      "text/plain": [
       "<Figure size 432x288 with 1 Axes>"
      ]
     },
     "metadata": {
      "needs_background": "light"
     },
     "output_type": "display_data"
    },
    {
     "data": {
      "image/png": "[encoded data removed]",
      "text/plain": [
       "<Figure size 432x288 with 1 Axes>"
      ]
     },
     "metadata": {
      "needs_background": "light"
     },
     "output_type": "display_data"
    },
    {
     "data": {
      "image/png": "[encoded data removed]",
      "text/plain": [
       "<Figure size 432x288 with 1 Axes>"
      ]
     },
     "metadata": {
      "needs_background": "light"
     },
     "output_type": "display_data"
    }
   ],
   "source": [
    "fiveNumSummarydf1 = df.describe()\n",
    "print(fiveNumSummarydf1)\n",
    "print(df.corr())\n",
    "df.boxplot()\n",
    "df.plot(kind='scatter', x=\"day_number\", y=\"cases\")\n",
    "df.plot(kind='bar', x=\"day_number\", y=\"cases\")\n",
    "\n"
   ]
  },
  {
   "cell_type": "markdown",
   "metadata": {},
   "source": [
    "#### (3) A linear regression model\n",
    "\n",
    "- Train a linear regression model\n",
    "- Visualize the model with scatter plot\n",
    "- Conduct k=10 cross validation and show the result\n",
    "- Display learning curve based on training data"
   ]
  },
  {
   "cell_type": "code",
   "execution_count": null,
   "metadata": {},
   "outputs": [],
   "source": [
    "# import model\n",
    "from sklearn.linear_model import LinearRegression\n",
    "X_train, X_test, y_train, y_test = train_test_split(X, y,\n",
    "                                        test_size=0.3, random_state=1)\n",
    "model = LinearRegression()\n",
    "\n",
    "# Train the model (we use all data for training --> Later we will divide the data into training data and testing data)\n",
    "model.fit(X_train, y_train)\n",
    "\n",
    "y_pred = model.predict(X_test)\n"
   ]
  },
  {
   "cell_type": "code",
   "execution_count": null,
   "metadata": {},
   "outputs": [
    {
     "data": {
      "image/png": "[encoded data removed]",
      "text/plain": [
       "<Figure size 432x288 with 1 Axes>"
      ]
     },
     "metadata": {
      "needs_background": "light"
     },
     "output_type": "display_data"
    }
   ],
   "source": [
    "# Plot scatterplot \n",
    "\n",
    "plt.scatter(X, y, c='red', label='observed')\n",
    "plt.legend(loc='best')\n",
    "\n",
    "plt.xlabel('day number')\n",
    "plt.ylabel('cases')\n",
    "plt.title('Regression')\n",
    "\n",
    "# plot the regression function\n",
    "plt.plot(X, model.predict(X), c='green', label='fitted', linewidth=2)\n",
    "\n",
    "plt.show()"
   ]
  },
  {
   "cell_type": "code",
   "execution_count": null,
   "metadata": {},
   "outputs": [
    {
     "name": "stdout",
     "output_type": "stream",
     "text": [
      "KFold(n_splits=10, random_state=None, shuffle=True)\n",
      "0.8544832676128976\n",
      "0.8497407824411193\n",
      "[182019.4467268384, 162236.66242778677, 166645.0654461445, 167605.4712244246, 171025.21951992172, 164741.42641383075, 165492.59227334417, 162471.1950060222, 192402.46314915956, 177007.10755079982] \n",
      " Average RMSE: 171164.66497382725\n",
      "[0.8517731474626101, 0.8706263453937768, 0.8476306182218517, 0.8610971588892827, 0.8537965798850217, 0.8349874661493111, 0.8468438965540348, 0.8418479023903844, 0.8568038202557401, 0.836678363319514] \n",
      " Average R2: 0.8502085298521527\n"
     ]
    }
   ],
   "source": [
    "from sklearn.model_selection import train_test_split\n",
    "from sklearn.model_selection import KFold # import k-fold validation\n",
    "from sklearn.linear_model import LinearRegression\n",
    "\n",
    "rmse = np.sqrt(metrics.mean_squared_error(y_test, y_pred))\n",
    "rmse\n",
    "\n",
    "# split the data into training and testing (test data size 30%)\n",
    "\n",
    "kf = KFold(n_splits=10, random_state=None, shuffle=True) # Define the split - into 10 folds \n",
    "\n",
    "kf.get_n_splits(X) # returns the number of splitting iterations in the cross-validator\n",
    "\n",
    "print(kf) \n",
    "\n",
    "print(model.score(X_train, y_train))\n",
    "print(model.score(X_test, y_test))\n",
    "\n",
    "rmse = []\n",
    "r2 = []\n",
    "for train_index, test_index in kf.split(X):\n",
    "\n",
    "    X_train, X_test = X[train_index], X[test_index]\n",
    "    y_train, y_test = y[train_index], y[test_index]\n",
    "    \n",
    "    model.fit(X_train, y_train)\n",
    "    y_pred = model.predict(X_test)\n",
    "    rmse.append(np.sqrt(metrics.mean_squared_error(y_test, y_pred)))\n",
    "    r2.append(metrics.r2_score(y_test, y_pred))\n",
    "\n",
    "print(rmse, '\\n Average RMSE:', np.mean(rmse))\n",
    "print(r2, '\\n Average R2:', np.mean(r2))\n",
    "\n",
    "    "
   ]
  },
  {
   "cell_type": "code",
   "execution_count": null,
   "metadata": {},
   "outputs": [
    {
     "data": {
      "image/png": "[encoded data removed]",
      "text/plain": [
       "<Figure size 360x216 with 1 Axes>"
      ]
     },
     "metadata": {
      "needs_background": "light"
     },
     "output_type": "display_data"
    }
   ],
   "source": [
    "from sklearn.model_selection import learning_curve\n",
    "    \n",
    "# evaluate the training and testing and retrieve the information of model performance. \n",
    "\n",
    "train_sizes = np.linspace(0.2, 0.8, 50)\n",
    "\n",
    "train_sizes, train_mse, test_mse = learning_curve(model, X, y, \n",
    "                                    train_sizes = train_sizes, \n",
    "                                    scoring='neg_root_mean_squared_error', \n",
    "                                    cv=10, shuffle=True)\n",
    "\n",
    "train_scores = np.sqrt(np.abs(train_mse))\n",
    "test_scores = np.sqrt(np.abs(test_mse))\n",
    "\n",
    "#print(train_scores)\n",
    "#print(test_scores)\n",
    "\n",
    "train_scores_mean = np.mean(train_scores, axis=1)\n",
    "test_scores_mean = np.mean(test_scores, axis=1)\n",
    "\n",
    "# Plot learning curve\n",
    "fig, ax = plt.subplots(1, 1, figsize=(5, 3))\n",
    "    \n",
    "ax.set_title('A learning curve for a simple linear regression')\n",
    "ax.set_xlabel(\"Training examples\")\n",
    "ax.set_ylabel(\"Score (RMSE)\")\n",
    "ax.grid()\n",
    "\n",
    "ax.plot(train_sizes, train_scores_mean, 'o-', color=\"r\", label=\"Training score\")\n",
    "ax.plot(train_sizes, test_scores_mean, 'o-', color=\"g\", label=\"Cross-validation score\")\n",
    "ax.legend(loc=\"best\")\n",
    "\n",
    "plt.show()"
   ]
  },
  {
   "cell_type": "markdown",
   "metadata": {},
   "source": [
    "#### (4) A logistic regression model\n",
    "\n",
    "- Train a logistic regression model\n",
    "- Visualize the model with scatter plot\n",
    "- Conduct k=10 cross validation and show the result\n",
    "- Display learning curve based on training data size"
   ]
  },
  {
   "cell_type": "code",
   "execution_count": null,
   "metadata": {},
   "outputs": [
    {
     "data": {
      "text/plain": [
       "array([ 660910, 1474548,  117023,  473076,   39202, 1445223, 1474548,\n",
       "         10799,   95539,  473076, 1409253,   24378,   98713,   72634,\n",
       "             1,  311597,   87897,   95539, 1437914,  473076,  413980,\n",
       "          2221,   72634,  447203,   83622,  452483,   16674,  440057,\n",
       "       1041456,  236719,  695016,  271595,   25176,  575490,       7,\n",
       "        473076,  413980,  597732,    2328,    2221,  339773,  710511,\n",
       "             1, 1409253,  368403,    2328, 1437914,  677995,  440057,\n",
       "         64260, 1483332, 1437914,  339773,   90179,  473076,  768151,\n",
       "       1041456,  361115,  575490,  361115, 1483332,  339773,  813741,\n",
       "         13319,  813741,   67854,  725435, 1041456,  385549,  361115,\n",
       "       1041456,     442,  285970,   86422,    8311, 1409253,   64800,\n",
       "       1483332,       1,       1, 1467059,  473076,  361115,   72634,\n",
       "         74885,  368403,   72634,    4923,    8311,   19828,  452483,\n",
       "        137561, 1409253,   33439,  117023, 1467059,  271595,   98713,\n",
       "        452483,  177358,  813741, 1456264,  695016,   44299,       1,\n",
       "           122, 1437914,   91709,  710511,  677995,   13319,  328047,\n",
       "          6389, 1483332,  768151, 1456264,  236719,  413980,  368403,\n",
       "       1294497,   10434,       1,   78492,   17330,  128821,  473076,\n",
       "        117023,  768151,  236719,   18611,  768151,  695016,       1,\n",
       "        813741, 1409253,  285970, 1041456,    8311,  507294,  177358,\n",
       "        768151,  640496,  813741,  236719,  768151,  361115,  473076,\n",
       "        813741,  440057,  677995,       1, 1367763, 1294497,   14637,\n",
       "        285970,  271595,  368403,  813741,       1, 1294497,  361115,\n",
       "        660910,   55751,  768151,  385549, 1409253,  452483,  413980,\n",
       "        246752,  385549,  768151,  137561, 1409253,    8311,   28225,\n",
       "        285970,   63769,  311597,  236719,  507294,  199028,   63769,\n",
       "         24378, 1367763,   78492,  440057,     122,  368403,  695016,\n",
       "        710511,  339773,  813741,  768151,   67854,  171962,  339773,\n",
       "          1524,  597732,  328047,  361115,  575490,  640496,  473076,\n",
       "        328047,  575490,   72634,  171962, 1367763,   12114, 1437914,\n",
       "         48590,  361115,  311597,  768151,   33439,    3207,  575490,\n",
       "         23024,      39,  110808,    3207, 1041456,  311597,  236719,\n",
       "        361115,   24378,   10434,   37916,   37916,       1, 1409253,\n",
       "         63769, 1367763,  473076,  236719,   24378,  361115, 1483332,\n",
       "         25176,  422665,       1,  473076,  339773,   81776,  768151,\n",
       "          6389,  507294,  103379,  813741,   27193])"
      ]
     },
     "execution_count": 164,
     "metadata": {},
     "output_type": "execute_result"
    }
   ],
   "source": [
    "# import model\n",
    "from sklearn.linear_model import LogisticRegression\n",
    "X_train, X_test, y_train, y_test = train_test_split(X, y.ravel(),\n",
    "                                        test_size=0.3, random_state=42)\n",
    "# instantiate a simple logistic regression model \n",
    "#logreg = LogisticRegression(max_iter = 5000)\n",
    "logreg = LogisticRegression(solver='lbfgs', max_iter=100000, random_state=0).fit(X_train, y_train)\n",
    "y_pred = logreg.predict(X_test)\n",
    "# fit the model to the training data (learn the coefficients)\n",
    "# make predictions on the testing set\n",
    "\n",
    "#X_test = X_test.ravel()\n",
    "\n",
    "y_pred"
   ]
  },
  {
   "cell_type": "code",
   "execution_count": null,
   "metadata": {},
   "outputs": [
    {
     "data": {
      "image/png": "[encoded data removed]",
      "text/plain": [
       "<Figure size 432x288 with 1 Axes>"
      ]
     },
     "metadata": {
      "needs_background": "light"
     },
     "output_type": "display_data"
    }
   ],
   "source": [
    "# Plot scatterplot \n",
    "\n",
    "plt.scatter(X, y, c='red', label='observed')\n",
    "plt.legend(loc='best')\n",
    "\n",
    "plt.xlabel('day number')\n",
    "plt.ylabel('cases')\n",
    "plt.title('logisti cRegression')\n",
    "\n",
    "# plot the regression function\n",
    "plt.plot(X, logreg.predict(X), c='green', label='fitted', linewidth=2)\n",
    "\n",
    "plt.show()"
   ]
  },
  {
   "cell_type": "code",
   "execution_count": null,
   "metadata": {},
   "outputs": [
    {
     "name": "stdout",
     "output_type": "stream",
     "text": [
      "KFold(n_splits=10, random_state=None, shuffle=True)\n",
      "0.24440619621342513\n",
      "0.092\n",
      "[214302.88167176247, 309243.33051243273, 225539.2184913185, 195126.6520467563, 219670.87119778804, 178444.81124574656, 276073.3213336718, 142398.35671897713, 332217.7664312103, 285826.16618240206] \n",
      " Average RMSE: 237884.3375832066\n",
      "[0.7950528541436378, 0.2965006794797521, 0.7686137530977554, 0.8387429277340775, 0.7244444045669663, 0.8631361662327063, 0.5554116941494137, 0.9069873208772525, 0.1308875203344555, 0.6406632898700249] \n",
      " Average R2: 0.6520440610486042\n"
     ]
    }
   ],
   "source": [
    "from sklearn.model_selection import train_test_split\n",
    "from sklearn.preprocessing import StandardScaler\n",
    "from sklearn import preprocessing\n",
    "scaler = preprocessing.StandardScaler().fit(X)\n",
    "X_scaled = scaler.transform(X)\n",
    "from sklearn.model_selection import KFold # import k-fold validation\n",
    "\n",
    "rmse = np.sqrt(metrics.mean_squared_error(y_test, y_pred))\n",
    "rmse\n",
    "\n",
    "# split the data into training and testing (test data size 30%)\n",
    "\n",
    "kf = KFold(n_splits=10, random_state=None, shuffle=True) # Define the split - into 10 folds \n",
    "\n",
    "kf.get_n_splits(X_scaled) # returns the number of splitting iterations in the cross-validator\n",
    "\n",
    "print(kf) \n",
    "\n",
    "print(logreg.score(X_train, y_train))\n",
    "print(logreg.score(X_test, y_test))\n",
    "\n",
    "rmse = []\n",
    "r2 = []\n",
    "for train_index, test_index in kf.split(X_scaled):\n",
    "\n",
    "    X_train, X_test = X_scaled[train_index], X_scaled[test_index]\n",
    "    y_train, y_test = y[train_index], y[test_index]\n",
    "    \n",
    "    logreg.fit(X_train, y_train.ravel())\n",
    "    y_pred = logreg.predict(X_test)\n",
    "    rmse.append(np.sqrt(metrics.mean_squared_error(y_test, y_pred)))\n",
    "    r2.append(metrics.r2_score(y_test, y_pred))\n",
    "\n",
    "print(rmse, '\\n Average RMSE:', np.mean(rmse))\n",
    "print(r2, '\\n Average R2:', np.mean(r2))"
   ]
  },
  {
   "cell_type": "code",
   "execution_count": null,
   "metadata": {},
   "outputs": [
    {
     "data": {
      "image/png": "[encoded data removed]",
      "text/plain": [
       "<Figure size 360x216 with 1 Axes>"
      ]
     },
     "metadata": {
      "needs_background": "light"
     },
     "output_type": "display_data"
    }
   ],
   "source": [
    "    # evaluate the training and testing and retrieve the information of model performance. \n",
    "train_sizes = np.linspace(0.3, 0.7, 50)\n",
    "\n",
    "train_sizes, train_mse, test_mse = learning_curve(logreg, X_scaled, y.ravel(), \n",
    "                                    train_sizes = train_sizes, \n",
    "                                    scoring='neg_root_mean_squared_error', \n",
    "                                    cv=10, shuffle=True)\n",
    "\n",
    "train_scores = np.sqrt(np.abs(train_mse))\n",
    "test_scores = np.sqrt(np.abs(test_mse))\n",
    "\n",
    "#print(train_scores)\n",
    "#print(test_scores)\n",
    "\n",
    "train_scores_mean = np.mean(train_scores, axis=1)\n",
    "test_scores_mean = np.mean(test_scores, axis=1)\n",
    "\n",
    "# Plot learning curve\n",
    "fig, ax = plt.subplots(1, 1, figsize=(5, 3))\n",
    "    \n",
    "ax.set_title('A learning curve for a simple logistic regression')\n",
    "ax.set_xlabel(\"Training examples\")\n",
    "ax.set_ylabel(\"Score (RMSE)\")\n",
    "ax.grid()\n",
    "\n",
    "ax.plot(train_sizes, train_scores_mean, 'o-', color=\"r\", label=\"Training score\")\n",
    "ax.plot(train_sizes, test_scores_mean, 'o-', color=\"g\", label=\"Cross-validation score\")\n",
    "ax.legend(loc=\"best\")\n",
    "\n",
    "plt.show()"
   ]
  },
  {
   "cell_type": "markdown",
   "metadata": {},
   "source": [
    "### Part 2: Write a summary of what you find from the data\n",
    "\n",
    "- Submit your summary to Canvas\n",
    "- Provide a link to your Git repo of the assignment. \n",
    "\n",
    "Logistic regression is better than linear regression but still it results in a low score. \n",
    "\n",
    "The data shown above tracks the number of COVID-19 Cases in Washington State. The data shows little change until day 40 where the cases start to increase exponentially. Due to this, a linear model is insufficiant. Furthermore, a logistic model works much better. It should be noted that the number of cases is changing due to external factors such as social distancing and really cannot be modeled based on either of these models long term.\n",
    "\n",
    "Note to reader: These Cross Validation Scores were calculated on 4/20/2022. Since the csv file is updated frequently as new data comes in and the data in this notebook changes as a result, I do not expect the scores to remain the same. If we have a true flattening of the curve the linear model will perform better in the new part and the logistic model will perform worse."
   ]
  },
  {
   "cell_type": "markdown",
   "metadata": {},
   "source": []
  }
 ],
 "metadata": {
  "interpreter": {
   "hash": "b0fa6594d8f4cbf19f97940f81e996739fb7646882a419484c72d19e05852a7e"
  },
  "kernelspec": {
   "display_name": "Python 3.9.12 64-bit",
   "language": "python",
   "name": "python3"
  },
  "language_info": {
   "codemirror_mode": {
    "name": "ipython",
    "version": 3
   },
   "file_extension": ".py",
   "mimetype": "text/x-python",
   "name": "python",
   "nbconvert_exporter": "python",
   "pygments_lexer": "ipython3",
   "version": "3.9.12"
  }
 },
 "nbformat": 4,
 "nbformat_minor": 1
}
